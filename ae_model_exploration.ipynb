{
 "cells": [
  {
   "cell_type": "code",
   "execution_count": 18,
   "metadata": {},
   "outputs": [],
   "source": [
    "import numpy as np\n",
    "\n",
    "from keras.datasets import mnist\n",
    "from keras.layers   import Input, Conv2D, MaxPooling2D, UpSampling2D\n",
    "from keras.models   import Model, Sequential\n",
    "\n",
    "import matplotlib.pyplot as plt\n",
    "%matplotlib inline"
   ]
  },
  {
   "cell_type": "code",
   "execution_count": 13,
   "metadata": {},
   "outputs": [
    {
     "name": "stdout",
     "output_type": "stream",
     "text": [
      "(60000, 28, 28, 1)\n",
      "(10000, 28, 28, 1)\n"
     ]
    }
   ],
   "source": [
    "(x_train, _), (x_test, _) = mnist.load_data()\n",
    "x_train = x_train.astype('float32') / 255.\n",
    "x_test  = x_test.astype( 'float32') / 255.\n",
    "x_train = np.reshape( x_train, (len(x_train), 28, 28, 1))\n",
    "x_test  = np.reshape( x_test,  (len(x_test), 28, 28, 1))\n",
    "input_shape = x_train.shape[1:]\n",
    "print x_train.shape\n",
    "print x_test.shape"
   ]
  },
  {
   "cell_type": "code",
   "execution_count": 10,
   "metadata": {},
   "outputs": [
    {
     "data": {
      "image/png": "[encoded data removed]",
      "text/plain": [
       "<Figure size 1440x144 with 10 Axes>"
      ]
     },
     "metadata": {},
     "output_type": "display_data"
    }
   ],
   "source": [
    "n = 10  # how many digits we will display\n",
    "plt.figure(figsize=(20, 2))\n",
    "for i in range(n):\n",
    "    # display original\n",
    "    ax = plt.subplot(1, n, i + 1)\n",
    "    plt.imshow( x_test[i].reshape(28, 28), cmap='gray')\n",
    "    plt.axis('off')\n",
    "plt.show()"
   ]
  },
  {
   "cell_type": "code",
   "execution_count": 23,
   "metadata": {},
   "outputs": [
    {
     "name": "stdout",
     "output_type": "stream",
     "text": [
      "_________________________________________________________________\n",
      "Layer (type)                 Output Shape              Param #   \n",
      "=================================================================\n",
      "conv2d_10 (Conv2D)           (None, 28, 28, 16)        160       \n",
      "_________________________________________________________________\n",
      "max_pooling2d_5 (MaxPooling2 (None, 14, 14, 16)        0         \n",
      "_________________________________________________________________\n",
      "conv2d_11 (Conv2D)           (None, 14, 14, 1)         145       \n",
      "_________________________________________________________________\n",
      "up_sampling2d_3 (UpSampling2 (None, 28, 28, 1)         0         \n",
      "=================================================================\n",
      "Total params: 305\n",
      "Trainable params: 305\n",
      "Non-trainable params: 0\n",
      "_________________________________________________________________\n"
     ]
    }
   ],
   "source": [
    "ae_model1 = Sequential()\n",
    "# encoder\n",
    "ae_model1.add( Conv2D(16, (3, 3), activation='relu', padding='same', input_shape=input_shape))\n",
    "ae_model1.add( MaxPooling2D(pool_size=(2, 2)))\n",
    "# decoder\n",
    "ae_model1.add( Conv2D( 1, (3, 3), activation='relu', padding='same'))\n",
    "ae_model1.add( UpSampling2D((2,2)))\n",
    "\n",
    "ae_model1.summary()"
   ]
  },
  {
   "cell_type": "code",
   "execution_count": 25,
   "metadata": {},
   "outputs": [],
   "source": [
    "ae_model1.compile( optimizer='adadelta', loss='binary_crossentropy')"
   ]
  },
  {
   "cell_type": "code",
   "execution_count": null,
   "metadata": {},
   "outputs": [
    {
     "name": "stdout",
     "output_type": "stream",
     "text": [
      "Train on 60000 samples, validate on 10000 samples\n",
      "Epoch 1/50\n",
      "60000/60000 [==============================] - 25s 411us/step - loss: 0.1593 - val_loss: 0.1156\n",
      "Epoch 2/50\n",
      "60000/60000 [==============================] - 24s 396us/step - loss: 0.1151 - val_loss: 0.1130\n",
      "Epoch 3/50\n",
      "60000/60000 [==============================] - 24s 396us/step - loss: 0.1136 - val_loss: 0.1123\n",
      "Epoch 4/50\n",
      "60000/60000 [==============================] - 24s 397us/step - loss: 0.1128 - val_loss: 0.1119\n",
      "Epoch 5/50\n",
      "44544/60000 [=====================>........] - ETA: 5s - loss: 0.1123"
     ]
    }
   ],
   "source": [
    "ae_model1.fit( x_train, x_train,\n",
    "               epochs=50,\n",
    "               batch_size=128,\n",
    "               shuffle=True,\n",
    "               validation_data=(x_test, x_test))"
   ]
  },
  {
   "cell_type": "code",
   "execution_count": null,
   "metadata": {},
   "outputs": [],
   "source": []
  }
 ],
 "metadata": {
  "kernelspec": {
   "display_name": "Python 2",
   "language": "python",
   "name": "python2"
  },
  "language_info": {
   "codemirror_mode": {
    "name": "ipython",
    "version": 2
   },
   "file_extension": ".py",
   "mimetype": "text/x-python",
   "name": "python",
   "nbconvert_exporter": "python",
   "pygments_lexer": "ipython2",
   "version": "2.7.15rc1"
  }
 },
 "nbformat": 4,
 "nbformat_minor": 2
}
