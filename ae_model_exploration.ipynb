{
 "cells": [
  {
   "cell_type": "code",
   "execution_count": 55,
   "metadata": {},
   "outputs": [],
   "source": [
    "import numpy as np\n",
    "\n",
    "from keras.datasets import mnist\n",
    "from keras.layers   import Input, Conv2D, MaxPooling2D, UpSampling2D, ZeroPadding2D\n",
    "from keras.models   import Model, Sequential, clone_model\n",
    "\n",
    "import matplotlib.pyplot as plt\n",
    "%matplotlib inline"
   ]
  },
  {
   "cell_type": "code",
   "execution_count": 13,
   "metadata": {},
   "outputs": [
    {
     "name": "stdout",
     "output_type": "stream",
     "text": [
      "(60000, 28, 28, 1)\n",
      "(10000, 28, 28, 1)\n"
     ]
    }
   ],
   "source": [
    "(x_train, _), (x_test, _) = mnist.load_data()\n",
    "x_train = x_train.astype('float32') / 255.\n",
    "x_test  = x_test.astype( 'float32') / 255.\n",
    "x_train = np.reshape( x_train, (len(x_train), 28, 28, 1))\n",
    "x_test  = np.reshape( x_test,  (len(x_test), 28, 28, 1))\n",
    "input_shape = x_train.shape[1:]\n",
    "print x_train.shape\n",
    "print x_test.shape"
   ]
  },
  {
   "cell_type": "code",
   "execution_count": 39,
   "metadata": {},
   "outputs": [
    {
     "data": {
      "image/png": "[encoded data removed]",
      "text/plain": [
       "<Figure size 1440x144 with 10 Axes>"
      ]
     },
     "metadata": {},
     "output_type": "display_data"
    }
   ],
   "source": [
    "n = 10\n",
    "plt.figure(figsize=(20, 2))\n",
    "for i in range(n):\n",
    "    # display original\n",
    "    ax = plt.subplot(1, n, i + 1)\n",
    "    plt.imshow( x_train[i].reshape(28, 28), cmap='gray')\n",
    "    plt.axis('off')\n",
    "plt.suptitle('Example Digits', fontsize=16)\n",
    "plt.show()"
   ]
  },
  {
   "cell_type": "code",
   "execution_count": 23,
   "metadata": {},
   "outputs": [
    {
     "name": "stdout",
     "output_type": "stream",
     "text": [
      "_________________________________________________________________\n",
      "Layer (type)                 Output Shape              Param #   \n",
      "=================================================================\n",
      "conv2d_10 (Conv2D)           (None, 28, 28, 16)        160       \n",
      "_________________________________________________________________\n",
      "max_pooling2d_5 (MaxPooling2 (None, 14, 14, 16)        0         \n",
      "_________________________________________________________________\n",
      "conv2d_11 (Conv2D)           (None, 14, 14, 1)         145       \n",
      "_________________________________________________________________\n",
      "up_sampling2d_3 (UpSampling2 (None, 28, 28, 1)         0         \n",
      "=================================================================\n",
      "Total params: 305\n",
      "Trainable params: 305\n",
      "Non-trainable params: 0\n",
      "_________________________________________________________________\n"
     ]
    }
   ],
   "source": [
    "ae_model1 = Sequential()\n",
    "# encoder\n",
    "ae_model1.add( Conv2D(16, (3, 3), activation='relu', padding='same', input_shape=input_shape))\n",
    "ae_model1.add( MaxPooling2D(pool_size=(2, 2)))\n",
    "# decoder\n",
    "ae_model1.add( Conv2D( 1, (3, 3), activation='relu', padding='same'))\n",
    "ae_model1.add( UpSampling2D((2,2)))\n",
    "\n",
    "ae_model1.summary()"
   ]
  },
  {
   "cell_type": "code",
   "execution_count": 25,
   "metadata": {},
   "outputs": [],
   "source": [
    "ae_model1.compile( optimizer='adadelta', loss='binary_crossentropy')"
   ]
  },
  {
   "cell_type": "code",
   "execution_count": 26,
   "metadata": {
    "scrolled": true
   },
   "outputs": [
    {
     "name": "stdout",
     "output_type": "stream",
     "text": [
      "Train on 60000 samples, validate on 10000 samples\n",
      "Epoch 1/50\n",
      "60000/60000 [==============================] - 25s 411us/step - loss: 0.1593 - val_loss: 0.1156\n",
      "Epoch 2/50\n",
      "60000/60000 [==============================] - 24s 396us/step - loss: 0.1151 - val_loss: 0.1130\n",
      "Epoch 3/50\n",
      "60000/60000 [==============================] - 24s 396us/step - loss: 0.1136 - val_loss: 0.1123\n",
      "Epoch 4/50\n",
      "60000/60000 [==============================] - 24s 397us/step - loss: 0.1128 - val_loss: 0.1119\n",
      "Epoch 5/50\n",
      "60000/60000 [==============================] - 24s 392us/step - loss: 0.1122 - val_loss: 0.1126\n",
      "Epoch 6/50\n",
      "60000/60000 [==============================] - 23s 391us/step - loss: 0.1117 - val_loss: 0.1105\n",
      "Epoch 7/50\n",
      "60000/60000 [==============================] - 23s 390us/step - loss: 0.1113 - val_loss: 0.1102\n",
      "Epoch 8/50\n",
      "60000/60000 [==============================] - 24s 393us/step - loss: 0.1110 - val_loss: 0.1101\n",
      "Epoch 9/50\n",
      "60000/60000 [==============================] - 24s 392us/step - loss: 0.1108 - val_loss: 0.1099\n",
      "Epoch 10/50\n",
      "60000/60000 [==============================] - 24s 395us/step - loss: 0.1112 - val_loss: 0.1098\n",
      "Epoch 11/50\n",
      "60000/60000 [==============================] - 23s 388us/step - loss: 0.1106 - val_loss: 0.1097\n",
      "Epoch 12/50\n",
      "60000/60000 [==============================] - 23s 386us/step - loss: 0.1105 - val_loss: 0.1096\n",
      "Epoch 13/50\n",
      "60000/60000 [==============================] - 24s 393us/step - loss: 0.1103 - val_loss: 0.1095\n",
      "Epoch 14/50\n",
      "60000/60000 [==============================] - 24s 394us/step - loss: 0.1104 - val_loss: 0.1095\n",
      "Epoch 15/50\n",
      "60000/60000 [==============================] - 23s 390us/step - loss: 0.1102 - val_loss: 0.1093\n",
      "Epoch 16/50\n",
      "60000/60000 [==============================] - 23s 389us/step - loss: 0.1101 - val_loss: 0.1093\n",
      "Epoch 17/50\n",
      "60000/60000 [==============================] - 23s 389us/step - loss: 0.1102 - val_loss: 0.1092\n",
      "Epoch 18/50\n",
      "60000/60000 [==============================] - 23s 391us/step - loss: 0.1100 - val_loss: 0.1092\n",
      "Epoch 19/50\n",
      "60000/60000 [==============================] - 23s 390us/step - loss: 0.1103 - val_loss: 0.1091\n",
      "Epoch 20/50\n",
      "60000/60000 [==============================] - 23s 387us/step - loss: 0.1100 - val_loss: 0.1090\n",
      "Epoch 21/50\n",
      "60000/60000 [==============================] - 23s 386us/step - loss: 0.1100 - val_loss: 0.1090\n",
      "Epoch 22/50\n",
      "60000/60000 [==============================] - 23s 389us/step - loss: 0.1099 - val_loss: 0.1095\n",
      "Epoch 23/50\n",
      "60000/60000 [==============================] - 23s 389us/step - loss: 0.1099 - val_loss: 0.1089\n",
      "Epoch 24/50\n",
      "60000/60000 [==============================] - 23s 386us/step - loss: 0.1098 - val_loss: 0.1089\n",
      "Epoch 25/50\n",
      "60000/60000 [==============================] - 24s 392us/step - loss: 0.1097 - val_loss: 0.1088\n",
      "Epoch 26/50\n",
      "60000/60000 [==============================] - 23s 390us/step - loss: 0.1098 - val_loss: 0.1092\n",
      "Epoch 27/50\n",
      "60000/60000 [==============================] - 23s 389us/step - loss: 0.1097 - val_loss: 0.1087\n",
      "Epoch 28/50\n",
      "60000/60000 [==============================] - 23s 385us/step - loss: 0.1096 - val_loss: 0.1089\n",
      "Epoch 29/50\n",
      "60000/60000 [==============================] - 23s 390us/step - loss: 0.1096 - val_loss: 0.1087\n",
      "Epoch 30/50\n",
      "60000/60000 [==============================] - 23s 388us/step - loss: 0.1095 - val_loss: 0.1086\n",
      "Epoch 31/50\n",
      "60000/60000 [==============================] - 23s 387us/step - loss: 0.1097 - val_loss: 0.1093\n",
      "Epoch 32/50\n",
      "60000/60000 [==============================] - 23s 390us/step - loss: 0.1094 - val_loss: 0.1085\n",
      "Epoch 33/50\n",
      "60000/60000 [==============================] - 23s 388us/step - loss: 0.1094 - val_loss: 0.1085\n",
      "Epoch 34/50\n",
      "60000/60000 [==============================] - 23s 388us/step - loss: 0.1098 - val_loss: 0.1085\n",
      "Epoch 35/50\n",
      "60000/60000 [==============================] - 23s 390us/step - loss: 0.1094 - val_loss: 0.1084\n",
      "Epoch 36/50\n",
      "60000/60000 [==============================] - 23s 391us/step - loss: 0.1094 - val_loss: 0.1085\n",
      "Epoch 37/50\n",
      "60000/60000 [==============================] - 23s 387us/step - loss: 0.1092 - val_loss: 0.1093\n",
      "Epoch 38/50\n",
      "60000/60000 [==============================] - 23s 390us/step - loss: 0.1095 - val_loss: 0.1084\n",
      "Epoch 39/50\n",
      "60000/60000 [==============================] - 23s 389us/step - loss: 0.1093 - val_loss: 0.1084\n",
      "Epoch 40/50\n",
      "60000/60000 [==============================] - 23s 390us/step - loss: 0.1095 - val_loss: 0.1089\n",
      "Epoch 41/50\n",
      "60000/60000 [==============================] - 23s 391us/step - loss: 0.1092 - val_loss: 0.1093\n",
      "Epoch 42/50\n",
      "60000/60000 [==============================] - 23s 385us/step - loss: 0.1093 - val_loss: 0.1083\n",
      "Epoch 43/50\n",
      "60000/60000 [==============================] - 23s 388us/step - loss: 0.1093 - val_loss: 0.1209\n",
      "Epoch 44/50\n",
      "60000/60000 [==============================] - 24s 393us/step - loss: 0.1092 - val_loss: 0.1083\n",
      "Epoch 45/50\n",
      "60000/60000 [==============================] - 23s 387us/step - loss: 0.1092 - val_loss: 0.1082\n",
      "Epoch 46/50\n",
      "60000/60000 [==============================] - 23s 388us/step - loss: 0.1092 - val_loss: 0.1082\n",
      "Epoch 47/50\n",
      "60000/60000 [==============================] - 23s 388us/step - loss: 0.1091 - val_loss: 0.1083\n",
      "Epoch 48/50\n",
      "60000/60000 [==============================] - 23s 390us/step - loss: 0.1092 - val_loss: 0.1082\n",
      "Epoch 49/50\n",
      "60000/60000 [==============================] - 23s 390us/step - loss: 0.1091 - val_loss: 0.1082\n",
      "Epoch 50/50\n",
      "60000/60000 [==============================] - 23s 390us/step - loss: 0.1091 - val_loss: 0.1082\n"
     ]
    },
    {
     "data": {
      "text/plain": [
       "<keras.callbacks.History at 0x7fe39ad108d0>"
      ]
     },
     "execution_count": 26,
     "metadata": {},
     "output_type": "execute_result"
    }
   ],
   "source": [
    "ae_model1.fit( x_train, x_train,\n",
    "               epochs=50,\n",
    "               batch_size=128,\n",
    "               shuffle=True,\n",
    "               validation_data=(x_test, x_test))"
   ]
  },
  {
   "cell_type": "code",
   "execution_count": 35,
   "metadata": {},
   "outputs": [],
   "source": [
    "x_test_recon = ae_model1.predict(x_test)"
   ]
  },
  {
   "cell_type": "code",
   "execution_count": 36,
   "metadata": {},
   "outputs": [
    {
     "data": {
      "image/png": "[encoded data removed]",
      "text/plain": [
       "<Figure size 1440x288 with 20 Axes>"
      ]
     },
     "metadata": {},
     "output_type": "display_data"
    }
   ],
   "source": [
    "n = 10\n",
    "plt.figure(figsize=(20, 4))\n",
    "for i in range(n):\n",
    "    # display original\n",
    "    ax = plt.subplot( 2, n, i+1)\n",
    "    plt.imshow( x_test[i].reshape(28, 28), cmap='gray')\n",
    "    plt.axis('off')\n",
    "    # display reconstruction\n",
    "    ax = plt.subplot( 2, n, n+i+1)\n",
    "    plt.imshow( x_test_recon[i].reshape(28, 28), cmap='gray')\n",
    "    plt.axis('off')\n",
    "plt.suptitle('1st row: Original, 2nd row: Reconstruction', fontsize=16)\n",
    "plt.show()"
   ]
  },
  {
   "cell_type": "markdown",
   "metadata": {},
   "source": [
    "## Second AE model\n",
    "\n",
    "Encoder and decoder both have 3 convolutional layers."
   ]
  },
  {
   "cell_type": "code",
   "execution_count": 47,
   "metadata": {},
   "outputs": [
    {
     "name": "stdout",
     "output_type": "stream",
     "text": [
      "_________________________________________________________________\n",
      "Layer (type)                 Output Shape              Param #   \n",
      "=================================================================\n",
      "conv2d_36 (Conv2D)           (None, 28, 28, 16)        416       \n",
      "_________________________________________________________________\n",
      "max_pooling2d_21 (MaxPooling (None, 14, 14, 16)        0         \n",
      "_________________________________________________________________\n",
      "conv2d_37 (Conv2D)           (None, 14, 14, 16)        6416      \n",
      "_________________________________________________________________\n",
      "max_pooling2d_22 (MaxPooling (None, 7, 7, 16)          0         \n",
      "_________________________________________________________________\n",
      "conv2d_38 (Conv2D)           (None, 7, 7, 32)          4640      \n",
      "_________________________________________________________________\n",
      "max_pooling2d_23 (MaxPooling (None, 3, 3, 32)          0         \n",
      "_________________________________________________________________\n",
      "conv2d_39 (Conv2D)           (None, 3, 3, 32)          9248      \n",
      "_________________________________________________________________\n",
      "up_sampling2d_10 (UpSampling (None, 6, 6, 32)          0         \n",
      "_________________________________________________________________\n",
      "conv2d_40 (Conv2D)           (None, 6, 6, 16)          12816     \n",
      "_________________________________________________________________\n",
      "up_sampling2d_11 (UpSampling (None, 12, 12, 16)        0         \n",
      "_________________________________________________________________\n",
      "zero_padding2d_3 (ZeroPaddin (None, 14, 14, 16)        0         \n",
      "_________________________________________________________________\n",
      "conv2d_41 (Conv2D)           (None, 14, 14, 16)        6416      \n",
      "_________________________________________________________________\n",
      "up_sampling2d_12 (UpSampling (None, 28, 28, 16)        0         \n",
      "_________________________________________________________________\n",
      "conv2d_42 (Conv2D)           (None, 28, 28, 1)         145       \n",
      "=================================================================\n",
      "Total params: 40,097\n",
      "Trainable params: 40,097\n",
      "Non-trainable params: 0\n",
      "_________________________________________________________________\n"
     ]
    }
   ],
   "source": [
    "ae_model2 = Sequential()\n",
    "# encoder\n",
    "ae_model2.add( Conv2D(16, (5, 5), activation='relu', padding='same', input_shape=input_shape))\n",
    "ae_model2.add( MaxPooling2D(pool_size=(2, 2)))\n",
    "ae_model2.add( Conv2D(16, (5, 5), activation='relu', padding='same'))\n",
    "ae_model2.add( MaxPooling2D(pool_size=(2, 2)))\n",
    "ae_model2.add( Conv2D(32, (3, 3), activation='relu', padding='same'))\n",
    "ae_model2.add( MaxPooling2D(pool_size=(2, 2)))\n",
    "# decoder\n",
    "ae_model2.add( Conv2D(32, (3, 3), activation='relu', padding='same'))\n",
    "ae_model2.add( UpSampling2D((2,2)))\n",
    "ae_model2.add( Conv2D(16, (5, 5), activation='relu', padding='same'))\n",
    "ae_model2.add( UpSampling2D((2,2)))\n",
    "ae_model2.add( ZeroPadding2D( padding=(1,1)))\n",
    "ae_model2.add( Conv2D(16, (5, 5), activation='relu', padding='same'))\n",
    "ae_model2.add( UpSampling2D((2,2)))\n",
    "ae_model2.add( Conv2D( 1, (3, 3), activation='relu', padding='same'))\n",
    "\n",
    "ae_model2.summary()"
   ]
  },
  {
   "cell_type": "code",
   "execution_count": 51,
   "metadata": {},
   "outputs": [],
   "source": [
    "ae_model2.compile( optimizer='adadelta', loss='binary_crossentropy')"
   ]
  },
  {
   "cell_type": "code",
   "execution_count": 52,
   "metadata": {
    "scrolled": true
   },
   "outputs": [
    {
     "name": "stdout",
     "output_type": "stream",
     "text": [
      "Train on 60000 samples, validate on 10000 samples\n",
      "Epoch 1/50\n",
      "60000/60000 [==============================] - 66s 1ms/step - loss: 0.2372 - val_loss: 0.1880\n",
      "Epoch 2/50\n",
      "60000/60000 [==============================] - 66s 1ms/step - loss: 0.1863 - val_loss: 0.1709\n",
      "Epoch 3/50\n",
      "60000/60000 [==============================] - 66s 1ms/step - loss: 0.1684 - val_loss: 0.1723\n",
      "Epoch 4/50\n",
      "60000/60000 [==============================] - 66s 1ms/step - loss: 0.1603 - val_loss: 0.1544\n",
      "Epoch 5/50\n",
      "60000/60000 [==============================] - 66s 1ms/step - loss: 0.1527 - val_loss: 0.1414\n",
      "Epoch 6/50\n",
      "60000/60000 [==============================] - 67s 1ms/step - loss: 0.1528 - val_loss: 0.1451\n",
      "Epoch 7/50\n",
      "60000/60000 [==============================] - 67s 1ms/step - loss: 0.1510 - val_loss: 0.1745\n",
      "Epoch 8/50\n",
      "60000/60000 [==============================] - 67s 1ms/step - loss: 0.1451 - val_loss: 0.1322\n",
      "Epoch 9/50\n",
      "60000/60000 [==============================] - 67s 1ms/step - loss: 0.1441 - val_loss: 0.1360\n",
      "Epoch 10/50\n",
      "60000/60000 [==============================] - 67s 1ms/step - loss: 0.1389 - val_loss: 0.1907\n",
      "Epoch 11/50\n",
      "60000/60000 [==============================] - 66s 1ms/step - loss: 0.1393 - val_loss: 0.1282\n",
      "Epoch 12/50\n",
      "60000/60000 [==============================] - 66s 1ms/step - loss: 0.1398 - val_loss: 0.1361\n",
      "Epoch 13/50\n",
      "60000/60000 [==============================] - 66s 1ms/step - loss: 0.1338 - val_loss: 0.1270\n",
      "Epoch 14/50\n",
      "60000/60000 [==============================] - 66s 1ms/step - loss: 0.1328 - val_loss: 0.1249\n",
      "Epoch 15/50\n",
      "60000/60000 [==============================] - 66s 1ms/step - loss: 0.1345 - val_loss: 0.1234\n",
      "Epoch 16/50\n",
      "60000/60000 [==============================] - 66s 1ms/step - loss: 0.1314 - val_loss: 0.1228\n",
      "Epoch 17/50\n",
      "60000/60000 [==============================] - 66s 1ms/step - loss: 0.1300 - val_loss: 0.1216\n",
      "Epoch 18/50\n",
      "60000/60000 [==============================] - 66s 1ms/step - loss: 0.1282 - val_loss: 0.1287\n",
      "Epoch 19/50\n",
      "60000/60000 [==============================] - 66s 1ms/step - loss: 0.1240 - val_loss: 0.1197\n",
      "Epoch 20/50\n",
      "60000/60000 [==============================] - 66s 1ms/step - loss: 0.1269 - val_loss: 0.1199\n",
      "Epoch 21/50\n",
      "60000/60000 [==============================] - 66s 1ms/step - loss: 0.1237 - val_loss: 0.1175\n",
      "Epoch 22/50\n",
      "60000/60000 [==============================] - 66s 1ms/step - loss: 0.1219 - val_loss: 0.1674\n",
      "Epoch 23/50\n",
      "60000/60000 [==============================] - 66s 1ms/step - loss: 0.1215 - val_loss: 0.1153\n",
      "Epoch 24/50\n",
      "60000/60000 [==============================] - 67s 1ms/step - loss: 0.1201 - val_loss: 0.1265\n",
      "Epoch 25/50\n",
      "60000/60000 [==============================] - 67s 1ms/step - loss: 0.1202 - val_loss: 0.1123\n",
      "Epoch 26/50\n",
      "60000/60000 [==============================] - 67s 1ms/step - loss: 0.1229 - val_loss: 0.1132\n",
      "Epoch 27/50\n",
      "60000/60000 [==============================] - 67s 1ms/step - loss: 0.1197 - val_loss: 0.1148\n",
      "Epoch 28/50\n",
      "60000/60000 [==============================] - 66s 1ms/step - loss: 0.1191 - val_loss: 0.1868\n",
      "Epoch 29/50\n",
      "60000/60000 [==============================] - 66s 1ms/step - loss: 0.1193 - val_loss: 0.1126\n",
      "Epoch 30/50\n",
      "60000/60000 [==============================] - 66s 1ms/step - loss: 0.1174 - val_loss: 0.1154\n",
      "Epoch 31/50\n",
      "60000/60000 [==============================] - 66s 1ms/step - loss: 0.1163 - val_loss: 0.1115\n",
      "Epoch 32/50\n",
      "60000/60000 [==============================] - 66s 1ms/step - loss: 0.1175 - val_loss: 0.1120\n",
      "Epoch 33/50\n",
      "60000/60000 [==============================] - 66s 1ms/step - loss: 0.1161 - val_loss: 0.1093\n",
      "Epoch 34/50\n",
      "60000/60000 [==============================] - 66s 1ms/step - loss: 0.1146 - val_loss: 0.1117\n",
      "Epoch 35/50\n",
      "60000/60000 [==============================] - 66s 1ms/step - loss: 0.1167 - val_loss: 0.1201\n",
      "Epoch 36/50\n",
      "60000/60000 [==============================] - 66s 1ms/step - loss: 0.1117 - val_loss: 0.1064\n",
      "Epoch 37/50\n",
      "60000/60000 [==============================] - 67s 1ms/step - loss: 0.1127 - val_loss: 0.1104\n",
      "Epoch 38/50\n",
      "60000/60000 [==============================] - 66s 1ms/step - loss: 0.1123 - val_loss: 0.1430\n",
      "Epoch 39/50\n",
      "60000/60000 [==============================] - 66s 1ms/step - loss: 0.1132 - val_loss: 0.1065\n",
      "Epoch 40/50\n",
      "60000/60000 [==============================] - 66s 1ms/step - loss: 0.1125 - val_loss: 0.1261\n",
      "Epoch 41/50\n",
      "60000/60000 [==============================] - 66s 1ms/step - loss: 0.1136 - val_loss: 0.1067\n",
      "Epoch 42/50\n",
      "60000/60000 [==============================] - 66s 1ms/step - loss: 0.1105 - val_loss: 0.1380\n",
      "Epoch 43/50\n",
      "60000/60000 [==============================] - 66s 1ms/step - loss: 0.1113 - val_loss: 0.1071\n",
      "Epoch 44/50\n",
      "60000/60000 [==============================] - 66s 1ms/step - loss: 0.1110 - val_loss: 0.1110\n",
      "Epoch 45/50\n",
      "60000/60000 [==============================] - 66s 1ms/step - loss: 0.1097 - val_loss: 0.1149\n",
      "Epoch 46/50\n",
      "60000/60000 [==============================] - 66s 1ms/step - loss: 0.1105 - val_loss: 0.1052\n",
      "Epoch 47/50\n",
      "60000/60000 [==============================] - 66s 1ms/step - loss: 0.1098 - val_loss: 0.1066\n",
      "Epoch 48/50\n",
      "60000/60000 [==============================] - 66s 1ms/step - loss: 0.1092 - val_loss: 0.1029\n",
      "Epoch 49/50\n",
      "60000/60000 [==============================] - 66s 1ms/step - loss: 0.1100 - val_loss: 0.1052\n",
      "Epoch 50/50\n",
      "60000/60000 [==============================] - 66s 1ms/step - loss: 0.1082 - val_loss: 0.1053\n"
     ]
    }
   ],
   "source": [
    "history_ae2 = ae_model2.fit( x_train, x_train,\n",
    "                            epochs=50,\n",
    "                            batch_size=256,\n",
    "                            shuffle=True,\n",
    "                            validation_data=(x_test, x_test))"
   ]
  },
  {
   "cell_type": "code",
   "execution_count": 53,
   "metadata": {},
   "outputs": [],
   "source": [
    "x_test_recon = ae_model2.predict(x_test)"
   ]
  },
  {
   "cell_type": "code",
   "execution_count": 54,
   "metadata": {},
   "outputs": [
    {
     "data": {
      "image/png": "[encoded data removed]",
      "text/plain": [
       "<Figure size 1440x288 with 20 Axes>"
      ]
     },
     "metadata": {},
     "output_type": "display_data"
    }
   ],
   "source": [
    "n = 10\n",
    "plt.figure(figsize=(20, 4))\n",
    "for i in range(n):\n",
    "    # display original\n",
    "    ax = plt.subplot( 2, n, i+1)\n",
    "    plt.imshow( x_test[i].reshape(28, 28), cmap='gray')\n",
    "    plt.axis('off')\n",
    "    # display reconstruction\n",
    "    ax = plt.subplot( 2, n, n+i+1)\n",
    "    plt.imshow( x_test_recon[i].reshape(28, 28), cmap='gray')\n",
    "    plt.axis('off')\n",
    "plt.suptitle('1st row: Original, 2nd row: Reconstruction', fontsize=16)\n",
    "plt.show()"
   ]
  },
  {
   "cell_type": "code",
   "execution_count": 56,
   "metadata": {},
   "outputs": [],
   "source": [
    "model_copy = clone_model( ae_model2)\n",
    "model_copy.set_weights( ae_model2.get_weights())"
   ]
  },
  {
   "cell_type": "code",
   "execution_count": 59,
   "metadata": {},
   "outputs": [],
   "source": [
    "noise_factor = 0.5\n",
    "x_train_noisy = x_train + noise_factor * np.random.normal(loc=0.0, scale=1.0, size=x_train.shape) \n",
    "x_test_noisy  = x_test  + noise_factor * np.random.normal(loc=0.0, scale=1.0, size=x_test.shape)\n",
    "\n",
    "x_train_noisy = np.clip( x_train_noisy, 0., 1.)\n",
    "x_test_noisy  = np.clip( x_test_noisy,  0., 1.)"
   ]
  },
  {
   "cell_type": "code",
   "execution_count": 60,
   "metadata": {},
   "outputs": [],
   "source": [
    "model_copy.compile( optimizer='adam', loss='binary_crossentropy')"
   ]
  },
  {
   "cell_type": "code",
   "execution_count": null,
   "metadata": {},
   "outputs": [
    {
     "name": "stdout",
     "output_type": "stream",
     "text": [
      "Train on 60000 samples, validate on 10000 samples\n",
      "Epoch 1/10\n",
      "60000/60000 [==============================] - 67s 1ms/step - loss: 0.1660 - val_loss: 0.1443\n",
      "Epoch 2/10\n",
      "60000/60000 [==============================] - 67s 1ms/step - loss: 0.1865 - val_loss: 0.1879\n",
      "Epoch 3/10\n",
      "60000/60000 [==============================] - 67s 1ms/step - loss: 0.2039 - val_loss: 0.2446\n",
      "Epoch 4/10\n",
      "60000/60000 [==============================] - 67s 1ms/step - loss: 0.1936 - val_loss: 0.1729\n",
      "Epoch 5/10\n",
      "60000/60000 [==============================] - 68s 1ms/step - loss: 0.1759 - val_loss: 0.1647\n",
      "Epoch 6/10\n",
      "60000/60000 [==============================] - 68s 1ms/step - loss: 0.1767 - val_loss: 0.2085\n",
      "Epoch 7/10\n",
      "51200/60000 [========================>.....] - ETA: 9s - loss: 0.1883"
     ]
    }
   ],
   "source": [
    "history_aecopy = model_copy.fit( x_train_noisy, x_train,\n",
    "                                epochs=10,\n",
    "                                batch_size=256,\n",
    "                                shuffle=True,\n",
    "                                validation_data=(x_test_noisy, x_test))"
   ]
  },
  {
   "cell_type": "code",
   "execution_count": null,
   "metadata": {},
   "outputs": [],
   "source": []
  }
 ],
 "metadata": {
  "kernelspec": {
   "display_name": "Python 2",
   "language": "python",
   "name": "python2"
  },
  "language_info": {
   "codemirror_mode": {
    "name": "ipython",
    "version": 2
   },
   "file_extension": ".py",
   "mimetype": "text/x-python",
   "name": "python",
   "nbconvert_exporter": "python",
   "pygments_lexer": "ipython2",
   "version": "2.7.15rc1"
  }
 },
 "nbformat": 4,
 "nbformat_minor": 2
}
